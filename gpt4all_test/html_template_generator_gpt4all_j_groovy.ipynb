{
  "cells": [
    {
      "cell_type": "code",
      "execution_count": 1,
      "metadata": {
        "id": "A6-RIPOXOR7S"
      },
      "outputs": [],
      "source": [
        "%%capture\n",
        "!pip install gpt4all\n",
        "import gpt4all\n",
        "model = gpt4all.GPT4All(\"ggml-gpt4all-j-v1.3-groovy.bin\")\n",
        "# model.chat_completion() doc: https://docs.gpt4all.io/gpt4all_python.html#gpt4all.gpt4all.GPT4All.chat_completion\n",
        "# other documentation: https://github.com/nomic-ai/gpt4all/blob/main/gpt4all-bindings/python/docs/gpt4all_python.md"
      ]
    },
    {
      "cell_type": "code",
      "source": [
        "def print_response(prompt: str) -> str:\n",
        "  messages = [{'role': 'user', 'content': prompt}]\n",
        "  response = model.chat_completion(messages)\n",
        "  print(response)\n",
        "  # print(response.get('choices',[{'message':{'content':''}}])[0]['message']['content'])"
      ],
      "metadata": {
        "id": "FEkje92AnaL-"
      },
      "execution_count": 2,
      "outputs": []
    },
    {
      "cell_type": "code",
      "source": [
        "print_response(\"\"\"\n",
        "# Templates:\n",
        "\n",
        "## dropdown template:\n",
        "```html\n",
        "<select class=\"custom-control\">\n",
        "  <option value=\"\">- Please select -</option>\n",
        "  <option value=\"1\">1</option>\n",
        "  <option value=\"2\">2</option>\n",
        "</select>\n",
        "```\n",
        "\n",
        "## radio template:\n",
        "```html\n",
        "<input class=\"custom-control\" type=\"radio\"/>\n",
        "```\n",
        "\n",
        "# Task:\n",
        "Use just one of the templates above to write HTML code for a dropdown of the Canadian provinces/territories, with these values:\n",
        "Alberta\n",
        "British Columbia\n",
        "Manitoba\n",
        "New Brunswick\n",
        "Newfoundland and Labrador\n",
        "Northwest Territories\n",
        "Nova Scotia\n",
        "Nunavut\n",
        "Ontario\n",
        "Prince Edward Island\n",
        "Quebec\n",
        "Saskatchewan\n",
        "Yukon\n",
        "\"\"\")"
      ],
      "metadata": {
        "id": "quFK9hebiHqN",
        "colab": {
          "base_uri": "https://localhost:8080/"
        },
        "outputId": "a4462873-a75b-4b93-f04c-dc74792abecb"
      },
      "execution_count": 3,
      "outputs": [
        {
          "output_type": "stream",
          "name": "stdout",
          "text": [
            "### Instruction: \n",
            "            The prompt below is a question to answer, a task to complete, or a conversation \n",
            "            to respond to; decide which and write an appropriate response.\n",
            "            \n",
            "### Prompt: \n",
            "\n",
            "# Templates:\n",
            "\n",
            "## dropdown template:\n",
            "```html\n",
            "<select class=\"custom-control\">\n",
            "  <option value=\"\">- Please select -</option>\n",
            "  <option value=\"1\">1</option>\n",
            "  <option value=\"2\">2</option>\n",
            "</select>\n",
            "```\n",
            "\n",
            "## radio template:\n",
            "```html\n",
            "<input class=\"custom-control\" type=\"radio\"/>\n",
            "```\n",
            "\n",
            "# Task:\n",
            "Use just one of the templates above to write HTML code for a dropdown of the Canadian provinces/territories, with these values:\n",
            "Alberta\n",
            "British Columbia\n",
            "Manitoba\n",
            "New Brunswick\n",
            "Newfoundland and Labrador\n",
            "Northwest Territories\n",
            "Nova Scotia\n",
            "Nunavut\n",
            "Ontario\n",
            "Prince Edward Island\n",
            "Quebec\n",
            "Saskatchewan\n",
            "Yukon\n",
            "\n",
            "### Response:\n",
            " \n",
            "```html\n",
            "<select class=\"custom-control\">\n",
            "  <option value=\"\" selected>- Please select -</option>\n",
            "  <option value=\"1\">Alberta</option>\n",
            "  <option value=\"2\">British Columbia</option>\n",
            "  <option value=\"3\">Manitoba</option>\n",
            "  <option value=\"4\">New Brunswick</option>\n",
            "  <option value=\"5\">Newfoundland and Labrador</option>\n",
            "  <option value=\"6\">Northwest Territories</option>\n",
            "  <option value=\"7\">Nova Scotia</option>\n",
            "  <\n",
            "{'model': 'ggml-gpt4all-j-v1.3-groovy', 'usage': {'prompt_tokens': 810, 'completion_tokens': 411, 'total_tokens': 1221}, 'choices': [{'message': {'role': 'assistant', 'content': ' \\n```html\\n<select class=\"custom-control\">\\n  <option value=\"\" selected>- Please select -</option>\\n  <option value=\"1\">Alberta</option>\\n  <option value=\"2\">British Columbia</option>\\n  <option value=\"3\">Manitoba</option>\\n  <option value=\"4\">New Brunswick</option>\\n  <option value=\"5\">Newfoundland and Labrador</option>\\n  <option value=\"6\">Northwest Territories</option>\\n  <option value=\"7\">Nova Scotia</option>\\n  <'}}]}\n"
          ]
        }
      ]
    }
  ],
  "metadata": {
    "colab": {
      "provenance": [],
      "gpuClass": "premium"
    },
    "gpuClass": "premium",
    "kernelspec": {
      "display_name": "Python 3",
      "name": "python3"
    },
    "language_info": {
      "name": "python"
    }
  },
  "nbformat": 4,
  "nbformat_minor": 0
}